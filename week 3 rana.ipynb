{
 "cells": [
  {
   "cell_type": "markdown",
   "metadata": {},
   "source": [
    "# function\n",
    "method / routines"
   ]
  },
  {
   "cell_type": "markdown",
   "metadata": {},
   "source": [
    "# class 7 18-1-21"
   ]
  },
  {
   "cell_type": "code",
   "execution_count": 1,
   "metadata": {},
   "outputs": [],
   "source": [
    "def func_name():\n",
    "    print(\"welcome to my function\")"
   ]
  },
  {
   "cell_type": "code",
   "execution_count": 2,
   "metadata": {},
   "outputs": [
    {
     "name": "stdout",
     "output_type": "stream",
     "text": [
      "welcome to my function\n"
     ]
    }
   ],
   "source": [
    "func_name()"
   ]
  },
  {
   "cell_type": "code",
   "execution_count": 3,
   "metadata": {},
   "outputs": [
    {
     "name": "stdout",
     "output_type": "stream",
     "text": [
      "welcome to my function\n",
      "welcome to my function\n",
      "welcome to my function\n"
     ]
    }
   ],
   "source": [
    "func_name()\n",
    "func_name()\n",
    "func_name()"
   ]
  },
  {
   "cell_type": "code",
   "execution_count": 5,
   "metadata": {},
   "outputs": [
    {
     "name": "stdout",
     "output_type": "stream",
     "text": [
      "enter a value  5\n",
      "enter a second value  5\n",
      "10\n"
     ]
    }
   ],
   "source": [
    "def sum():\n",
    "    a=input(\"enter a value  \")\n",
    "    b=input(\"enter a second value  \")\n",
    "    print(int(a)+int(b))\n",
    "sum()"
   ]
  },
  {
   "cell_type": "code",
   "execution_count": 12,
   "metadata": {},
   "outputs": [],
   "source": [
    "def maxi():\n",
    "    num=[]\n",
    "    num1=int(input(\"enter a num 1 \"))\n",
    "    num2=int(input(\"enter a num 2 \"))\n",
    "    num3=int(input(\"enter a num 3 \"))\n",
    "    num4=int(input(\"enter a num 4 \"))\n",
    "    num5=int(input(\"enter a num 5 \"))\n",
    "    num.append(num1)\n",
    "    num.append(num2)\n",
    "    num.append(num3)\n",
    "    num.append(num4)\n",
    "    num.append(num5)\n",
    "    print(num)\n",
    "    print(int(max(num)))"
   ]
  },
  {
   "cell_type": "code",
   "execution_count": 13,
   "metadata": {},
   "outputs": [
    {
     "name": "stdout",
     "output_type": "stream",
     "text": [
      "enter a num 1 23\n",
      "enter a num 2 34\n",
      "enter a num 3 56\n",
      "enter a num 4 7\n",
      "enter a num 5 8\n",
      "[23, 34, 56, 7, 8]\n",
      "56\n"
     ]
    }
   ],
   "source": [
    "maxi()"
   ]
  },
  {
   "cell_type": "code",
   "execution_count": 22,
   "metadata": {},
   "outputs": [
    {
     "name": "stdout",
     "output_type": "stream",
     "text": [
      "enter any five num and seprate ',' 3,66,765,7,6\n",
      "765\n"
     ]
    }
   ],
   "source": [
    "def maximum():\n",
    "    nums=input(\"enter any five num and seprate ',' \").split(',')\n",
    "    nums.sort()\n",
    "    print(nums[-1])\n",
    "maximum()"
   ]
  },
  {
   "cell_type": "code",
   "execution_count": 24,
   "metadata": {},
   "outputs": [
    {
     "name": "stdout",
     "output_type": "stream",
     "text": [
      "enter a value 5 3,44,5\n"
     ]
    },
    {
     "data": {
      "text/plain": [
       "5"
      ]
     },
     "execution_count": 24,
     "metadata": {},
     "output_type": "execute_result"
    }
   ],
   "source": [
    "def findmax():\n",
    "    ans=input(\"enter a value 5 \").split(\",\")\n",
    "    return max((ans))\n",
    "findmax()"
   ]
  },
  {
   "cell_type": "code",
   "execution_count": 25,
   "metadata": {},
   "outputs": [
    {
     "name": "stdout",
     "output_type": "stream",
     "text": [
      "enter a value  44,6,7,33,4\n"
     ]
    },
    {
     "data": {
      "text/plain": [
       "44"
      ]
     },
     "execution_count": 25,
     "metadata": {},
     "output_type": "execute_result"
    }
   ],
   "source": [
    "def findmax():\n",
    "    ans=input(\"enter a value  \").split(\",\")\n",
    "    return max([int (x) for x in ans])\n",
    "findmax()"
   ]
  },
  {
   "cell_type": "code",
   "execution_count": 26,
   "metadata": {},
   "outputs": [
    {
     "name": "stdout",
     "output_type": "stream",
     "text": [
      "enter a value  3,3,3,4,5\n"
     ]
    },
    {
     "data": {
      "text/plain": [
       "['3', '3', '3', '4', '5']"
      ]
     },
     "execution_count": 26,
     "metadata": {},
     "output_type": "execute_result"
    }
   ],
   "source": [
    "ans=input(\"enter a value  \").split(\",\")\n",
    "ans"
   ]
  },
  {
   "cell_type": "code",
   "execution_count": null,
   "metadata": {},
   "outputs": [],
   "source": []
  },
  {
   "cell_type": "code",
   "execution_count": null,
   "metadata": {},
   "outputs": [],
   "source": []
  },
  {
   "cell_type": "code",
   "execution_count": 27,
   "metadata": {},
   "outputs": [
    {
     "name": "stdout",
     "output_type": "stream",
     "text": [
      "enter a num5\n"
     ]
    },
    {
     "data": {
      "text/plain": [
       "'odd'"
      ]
     },
     "execution_count": 27,
     "metadata": {},
     "output_type": "execute_result"
    }
   ],
   "source": [
    "def check():\n",
    "    if int(input(\"enter a num\")) %2==0:\n",
    "        return \"evan\"\n",
    "    else:\n",
    "        return \"odd\"\n",
    "check()\n",
    "        "
   ]
  },
  {
   "cell_type": "code",
   "execution_count": 28,
   "metadata": {},
   "outputs": [
    {
     "name": "stdout",
     "output_type": "stream",
     "text": [
      "enter a value70\n"
     ]
    },
    {
     "data": {
      "text/plain": [
       "'no'"
      ]
     },
     "execution_count": 28,
     "metadata": {},
     "output_type": "execute_result"
    }
   ],
   "source": [
    "def findalue ():\n",
    "    val=90\n",
    "    userval=int(input(\"enter a value\"))\n",
    "    if val > userval:\n",
    "        return \"no\"\n",
    "    elif val < userval:\n",
    "        return \"yes\"\n",
    "    else:\n",
    "        return \"yes\"\n",
    "findalue()"
   ]
  },
  {
   "cell_type": "code",
   "execution_count": 29,
   "metadata": {},
   "outputs": [
    {
     "name": "stdout",
     "output_type": "stream",
     "text": [
      "enter a status of fee  yes\n",
      "enter a card statusyes\n"
     ]
    },
    {
     "data": {
      "text/plain": [
       "'you ar alowed'"
      ]
     },
     "execution_count": 29,
     "metadata": {},
     "output_type": "execute_result"
    }
   ],
   "source": [
    "def examvalidation():\n",
    "    feestatus=input(\"enter a status of fee  \")\n",
    "    admitcard=input(\"enter a card status\")\n",
    "    if feestatus ==\"yes\" and admitcard ==\"yes\":\n",
    "        return \"you ar alowed\"\n",
    "    else:\n",
    "        return \"no allowed\"\n",
    "examvalidation()"
   ]
  },
  {
   "cell_type": "code",
   "execution_count": 30,
   "metadata": {},
   "outputs": [],
   "source": [
    "def examcheck ():\n",
    "    feestatus = input(\"enter a fee status (paid/unpaid)\")\n",
    "    admitcard = input(\"do you have admit card(yes/no)\")\n",
    "    \n",
    "    if feestatus==\"paid\"  and admitcard==\"yes\":\n",
    "        print(\"you are alowed\")"
   ]
  },
  {
   "cell_type": "code",
   "execution_count": 31,
   "metadata": {},
   "outputs": [
    {
     "name": "stdout",
     "output_type": "stream",
     "text": [
      "enter a fee status (paid/unpaid)paid\n",
      "do you have admit card(yes/no)yes\n",
      "you are alowed\n"
     ]
    }
   ],
   "source": [
    "examcheck()"
   ]
  },
  {
   "cell_type": "code",
   "execution_count": 32,
   "metadata": {},
   "outputs": [],
   "source": [
    "def examcheck ():\n",
    "    feestatus = input(\"enter a fee status (paid/unpaid)\")\n",
    "    if feestatus==\"paid\":\n",
    "        admitcard = input(\"do you have admit card(yes/no)\")\n",
    "        if admitcard==\"yes\":\n",
    "            print(\"allowed\")\n",
    "        else:\n",
    "            print(\"not allowed\")\n",
    "    else:\n",
    "        print(\"not allowed\")\n",
    "            \n"
   ]
  },
  {
   "cell_type": "code",
   "execution_count": 33,
   "metadata": {},
   "outputs": [
    {
     "name": "stdout",
     "output_type": "stream",
     "text": [
      "enter a fee status (paid/unpaid)paid\n",
      "do you have admit card(yes/no)yes\n",
      "allowed\n"
     ]
    }
   ],
   "source": [
    "examcheck()"
   ]
  },
  {
   "cell_type": "code",
   "execution_count": null,
   "metadata": {},
   "outputs": [],
   "source": []
  },
  {
   "cell_type": "code",
   "execution_count": null,
   "metadata": {},
   "outputs": [],
   "source": []
  },
  {
   "cell_type": "code",
   "execution_count": 36,
   "metadata": {},
   "outputs": [
    {
     "name": "stdout",
     "output_type": "stream",
     "text": [
      "enter a any num to find its evan or odd  'quit to exit'  1\n",
      "1 is odd\n",
      "enter a any num to find its evan or odd  'quit to exit'  2\n",
      "2 is evan\n",
      "enter a any num to find its evan or odd  'quit to exit'  quit\n"
     ]
    }
   ],
   "source": [
    "sentinal=True\n",
    "def findvalues ():\n",
    "    global sentinal\n",
    "    value = input(\"enter a any num to find its evan or odd  'quit to exit'  \")\n",
    "    if value !=\"quit\":\n",
    "        if int(value)%2==0:\n",
    "            print(f\"{value} is evan\")\n",
    "        else:\n",
    "            print(f\"{value} is odd\")\n",
    "    else:\n",
    "        sentinal=False\n",
    "while (sentinal):\n",
    "    findvalues()"
   ]
  },
  {
   "cell_type": "code",
   "execution_count": 40,
   "metadata": {},
   "outputs": [
    {
     "name": "stdout",
     "output_type": "stream",
     "text": [
      "enter a num2\n"
     ]
    },
    {
     "data": {
      "text/plain": [
       "'evan'"
      ]
     },
     "execution_count": 40,
     "metadata": {},
     "output_type": "execute_result"
    }
   ],
   "source": [
    "def check():\n",
    "    while(True):\n",
    "        a=int(input(\"enter a num\"))\n",
    "        if a ==\"q\":\n",
    "            break\n",
    "        else:\n",
    "            if a%2==0:\n",
    "                return \"evan\"\n",
    "            else:\n",
    "                return \"odd\"\n",
    "check()\n",
    "        "
   ]
  },
  {
   "cell_type": "markdown",
   "metadata": {},
   "source": [
    "## class 8 20-1-21"
   ]
  },
  {
   "cell_type": "markdown",
   "metadata": {},
   "source": [
    "# more on function"
   ]
  },
  {
   "cell_type": "code",
   "execution_count": 41,
   "metadata": {},
   "outputs": [],
   "source": [
    "#return"
   ]
  },
  {
   "cell_type": "code",
   "execution_count": 42,
   "metadata": {},
   "outputs": [],
   "source": [
    "age=30 # global variable\n",
    "\n",
    "def fullname():\n",
    "    fname=input(\"your first name \")\n",
    "    lname=input(\"your name last \")\n",
    "    fullname=(f\"{fname} {lname}\")   #local variable\n",
    "    print(fullname)"
   ]
  },
  {
   "cell_type": "code",
   "execution_count": 43,
   "metadata": {},
   "outputs": [
    {
     "name": "stdout",
     "output_type": "stream",
     "text": [
      "your first name aLI\n",
      "your name last RANA\n",
      "aLI RANA\n"
     ]
    }
   ],
   "source": [
    "fullname()"
   ]
  },
  {
   "cell_type": "code",
   "execution_count": 44,
   "metadata": {},
   "outputs": [],
   "source": [
    "#  local variable wo hota hai jo function k ander hi define hota hai  or global har jaga hota hai "
   ]
  },
  {
   "cell_type": "code",
   "execution_count": 45,
   "metadata": {},
   "outputs": [],
   "source": [
    "def fullname():\n",
    "    fname=input(\"your first name \")\n",
    "    lname=input(\"your name last \")\n",
    "    \n",
    "    global fullname\n",
    "    fullname=(f\"{fname} {lname}\")   #local variable\n",
    "    print(fullname)\n",
    "    return fullname"
   ]
  },
  {
   "cell_type": "code",
   "execution_count": 46,
   "metadata": {},
   "outputs": [
    {
     "name": "stdout",
     "output_type": "stream",
     "text": [
      "your first name ali\n",
      "your name last rana\n",
      "ali rana\n"
     ]
    }
   ],
   "source": [
    "name=fullname()"
   ]
  },
  {
   "cell_type": "code",
   "execution_count": 47,
   "metadata": {},
   "outputs": [
    {
     "name": "stdout",
     "output_type": "stream",
     "text": [
      "ali rana ali\n"
     ]
    }
   ],
   "source": [
    "print(f\"{name} ali\")"
   ]
  },
  {
   "cell_type": "code",
   "execution_count": null,
   "metadata": {},
   "outputs": [],
   "source": []
  },
  {
   "cell_type": "markdown",
   "metadata": {},
   "source": [
    "# argument"
   ]
  },
  {
   "cell_type": "code",
   "execution_count": 48,
   "metadata": {},
   "outputs": [],
   "source": [
    "def add ():  #perameter less function\n",
    "    n1=int(input())\n",
    "    n2=int(input())\n",
    "    sum1 = n1+n2\n",
    "    return sum1"
   ]
  },
  {
   "cell_type": "code",
   "execution_count": 49,
   "metadata": {},
   "outputs": [
    {
     "name": "stdout",
     "output_type": "stream",
     "text": [
      "4\n",
      "5\n"
     ]
    },
    {
     "data": {
      "text/plain": [
       "9"
      ]
     },
     "execution_count": 49,
     "metadata": {},
     "output_type": "execute_result"
    }
   ],
   "source": [
    "add()  #argument less"
   ]
  },
  {
   "cell_type": "code",
   "execution_count": 50,
   "metadata": {},
   "outputs": [
    {
     "name": "stdout",
     "output_type": "stream",
     "text": [
      "asad\n"
     ]
    }
   ],
   "source": [
    "print(\"asad\") #argument"
   ]
  },
  {
   "cell_type": "code",
   "execution_count": 53,
   "metadata": {},
   "outputs": [],
   "source": [
    "def add (n1,n2):  #permetarised function\n",
    "  \n",
    "    sum1 = n1+n2\n",
    "    return sum1"
   ]
  },
  {
   "cell_type": "code",
   "execution_count": 54,
   "metadata": {},
   "outputs": [
    {
     "data": {
      "text/plain": [
       "68"
      ]
     },
     "execution_count": 54,
     "metadata": {},
     "output_type": "execute_result"
    }
   ],
   "source": [
    "add(23,45)"
   ]
  },
  {
   "cell_type": "code",
   "execution_count": 56,
   "metadata": {},
   "outputs": [],
   "source": [
    "def ad (n1,n2):  #permetarised function\n",
    "    \"\"\"this function takes two integer perameter this functio is made by cklass\"\"\"  #creat a docstring banane ka method\n",
    "    sum1 = n1+n2\n",
    "    return sum1"
   ]
  },
  {
   "cell_type": "code",
   "execution_count": 57,
   "metadata": {},
   "outputs": [
    {
     "data": {
      "text/plain": [
       "4"
      ]
     },
     "execution_count": 57,
     "metadata": {},
     "output_type": "execute_result"
    }
   ],
   "source": [
    "ad(1,3)  #positional argummnet"
   ]
  },
  {
   "cell_type": "code",
   "execution_count": 58,
   "metadata": {},
   "outputs": [
    {
     "data": {
      "text/plain": [
       "51"
      ]
     },
     "execution_count": 58,
     "metadata": {},
     "output_type": "execute_result"
    }
   ],
   "source": [
    "add(n1=45,n2=6)  #key word argument"
   ]
  },
  {
   "cell_type": "code",
   "execution_count": 59,
   "metadata": {},
   "outputs": [],
   "source": [
    "def add (n1,n2,n3,n4):  #permetarised function\n",
    "  \n",
    "    sum1 = n1+n2+n3+n4\n",
    "    return sum1"
   ]
  },
  {
   "cell_type": "code",
   "execution_count": 60,
   "metadata": {},
   "outputs": [
    {
     "data": {
      "text/plain": [
       "21"
      ]
     },
     "execution_count": 60,
     "metadata": {},
     "output_type": "execute_result"
    }
   ],
   "source": [
    "add(2,4,n3=5,n4=10)"
   ]
  },
  {
   "cell_type": "code",
   "execution_count": 61,
   "metadata": {},
   "outputs": [],
   "source": [
    "def add (n1=0,n2=0,n3=0,n4=0):  #defult value permetarised function\n",
    "  \n",
    "    sum1 = n1+n2+n3+n4\n",
    "    return sum1"
   ]
  },
  {
   "cell_type": "code",
   "execution_count": 62,
   "metadata": {},
   "outputs": [
    {
     "data": {
      "text/plain": [
       "7"
      ]
     },
     "execution_count": 62,
     "metadata": {},
     "output_type": "execute_result"
    }
   ],
   "source": [
    "add(2,5)"
   ]
  },
  {
   "cell_type": "code",
   "execution_count": 96,
   "metadata": {},
   "outputs": [],
   "source": [
    "def salarycal(basic_salary,sales):\n",
    "    deduction=basic_salary*taxcalc (basic_salary)/100 \n",
    "    \n",
    "    net=basic_salary - deduction +commitioncal (sales)\n",
    "   \n",
    "    "
   ]
  },
  {
   "cell_type": "code",
   "execution_count": 97,
   "metadata": {},
   "outputs": [],
   "source": [
    "# gross_salary=salarycal(50000,10)"
   ]
  },
  {
   "cell_type": "code",
   "execution_count": 98,
   "metadata": {},
   "outputs": [],
   "source": [
    "# gross_salary"
   ]
  },
  {
   "cell_type": "code",
   "execution_count": null,
   "metadata": {},
   "outputs": [],
   "source": []
  },
  {
   "cell_type": "code",
   "execution_count": 99,
   "metadata": {},
   "outputs": [],
   "source": [
    "def taxcalc (basic_salary):\n",
    "    tax=0\n",
    "    if basic_salary<30000:\n",
    "        tax=0\n",
    "    elif basic_salary <=30000 and basic_salary>=50000:\n",
    "        tax=5\n",
    "    else:\n",
    "        tax=10\n",
    "    return tax"
   ]
  },
  {
   "cell_type": "code",
   "execution_count": 100,
   "metadata": {},
   "outputs": [],
   "source": [
    "def commitioncal (sales):\n",
    "    if sales>100:\n",
    "        return sales*100\n",
    "    elif sales>150:\n",
    "        return sales *150\n",
    "    else:\n",
    "        return 0"
   ]
  },
  {
   "cell_type": "code",
   "execution_count": 101,
   "metadata": {},
   "outputs": [
    {
     "name": "stdout",
     "output_type": "stream",
     "text": [
      "enter salary  60000\n"
     ]
    }
   ],
   "source": [
    "emp_basic=int(input(\"enter salary  \"))"
   ]
  },
  {
   "cell_type": "code",
   "execution_count": 102,
   "metadata": {},
   "outputs": [
    {
     "name": "stdout",
     "output_type": "stream",
     "text": [
      "your net salary is None\n"
     ]
    }
   ],
   "source": [
    "print(f\"your net salary is {salarycal(emp_basic,100)}\")"
   ]
  },
  {
   "cell_type": "code",
   "execution_count": null,
   "metadata": {},
   "outputs": [],
   "source": []
  },
  {
   "cell_type": "code",
   "execution_count": 143,
   "metadata": {},
   "outputs": [],
   "source": [
    "def taxCalc(basic):\n",
    "    tax = 0\n",
    "    if basic <30000:\n",
    "        tax = 0\n",
    "    elif ((basic >=30000) and (basic<=50000)):\n",
    "        tax = 5\n",
    "    elif ((basic >=50000) and (basicy<=100000)):\n",
    "        tax = 10\n",
    "    else:\n",
    "        tax = 20\n",
    "        \n",
    "    return tax "
   ]
  },
  {
   "cell_type": "code",
   "execution_count": 144,
   "metadata": {},
   "outputs": [],
   "source": [
    "def commitionCal (sales):\n",
    "    if sales>100:\n",
    "        return sales*100\n",
    "    elif sales>50:\n",
    "        return sales*50\n",
    "    else :\n",
    "        return 0\n",
    "def salleycal (basic,sales):\n",
    "    deduction=basic*taxcalc (basic)/100 \n",
    "    grossSallery= commitionCal(sales) + basic - deduction\n",
    "    print (f\"your sallery is {grossSallery}\")"
   ]
  },
  {
   "cell_type": "code",
   "execution_count": 145,
   "metadata": {},
   "outputs": [
    {
     "name": "stdout",
     "output_type": "stream",
     "text": [
      "your sallery is 50000.0\n"
     ]
    }
   ],
   "source": [
    "salleycal(50000,100)"
   ]
  },
  {
   "cell_type": "code",
   "execution_count": null,
   "metadata": {},
   "outputs": [],
   "source": []
  },
  {
   "cell_type": "code",
   "execution_count": null,
   "metadata": {},
   "outputs": [],
   "source": []
  }
 ],
 "metadata": {
  "kernelspec": {
   "display_name": "Python 3",
   "language": "python",
   "name": "python3"
  },
  "language_info": {
   "codemirror_mode": {
    "name": "ipython",
    "version": 3
   },
   "file_extension": ".py",
   "mimetype": "text/x-python",
   "name": "python",
   "nbconvert_exporter": "python",
   "pygments_lexer": "ipython3",
   "version": "3.7.6"
  }
 },
 "nbformat": 4,
 "nbformat_minor": 4
}
