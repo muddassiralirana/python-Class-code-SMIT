{
 "cells": [
  {
   "cell_type": "markdown",
   "metadata": {},
   "source": [
    "# function\n",
    "method / routines"
   ]
  },
  {
   "cell_type": "markdown",
   "metadata": {},
   "source": [
    "# class 7 18-1-21"
   ]
  },
  {
   "cell_type": "code",
   "execution_count": 1,
   "metadata": {},
   "outputs": [],
   "source": [
    "def func_name():\n",
    "    print(\"welcome to my function\")"
   ]
  },
  {
   "cell_type": "code",
   "execution_count": 4,
   "metadata": {},
   "outputs": [
    {
     "name": "stdout",
     "output_type": "stream",
     "text": [
      "welcome to my function\n"
     ]
    }
   ],
   "source": [
    "func_name()"
   ]
  },
  {
   "cell_type": "code",
   "execution_count": 5,
   "metadata": {},
   "outputs": [
    {
     "name": "stdout",
     "output_type": "stream",
     "text": [
      "welcome to my function\n",
      "welcome to my function\n",
      "welcome to my function\n"
     ]
    }
   ],
   "source": [
    "func_name()\n",
    "func_name()\n",
    "func_name()"
   ]
  },
  {
   "cell_type": "code",
   "execution_count": 12,
   "metadata": {},
   "outputs": [
    {
     "name": "stdout",
     "output_type": "stream",
     "text": [
      "enter a value2\n",
      "enter a second value3\n",
      "5\n"
     ]
    }
   ],
   "source": [
    "def sum():\n",
    "    a=input(\"enter a value\")\n",
    "    b=input(\"enter a second value\")\n",
    "    print(int(a)+int(b))\n",
    "sum()"
   ]
  },
  {
   "cell_type": "code",
   "execution_count": 21,
   "metadata": {},
   "outputs": [],
   "source": [
    "def maxi():\n",
    "    num=[]\n",
    "    num1=input(\"enter a num 1 \")\n",
    "    num2=input(\"enter a num 2 \")\n",
    "    num3=input(\"enter a num 3 \")\n",
    "    num4=input(\"enter a num 4 \")\n",
    "    num5=input(\"enter a num 5 \")\n",
    "    num.append(num1)\n",
    "    num.append(num2)\n",
    "    num.append(num3)\n",
    "    num.append(num4)\n",
    "    num.append(num5)\n",
    "    print(num)\n",
    "    print(max(num))"
   ]
  },
  {
   "cell_type": "code",
   "execution_count": 22,
   "metadata": {},
   "outputs": [
    {
     "name": "stdout",
     "output_type": "stream",
     "text": [
      "enter a num 1 34\n",
      "enter a num 2 32\n",
      "enter a num 3 33\n",
      "enter a num 4 4\n",
      "enter a num 5 6\n",
      "['34', '32', '33', '4', '6']\n",
      "6\n"
     ]
    }
   ],
   "source": [
    "maxi()"
   ]
  },
  {
   "cell_type": "code",
   "execution_count": 23,
   "metadata": {},
   "outputs": [
    {
     "name": "stdout",
     "output_type": "stream",
     "text": [
      "enter any five num and seprate ',' 1,4,6,8,6\n",
      "8\n"
     ]
    }
   ],
   "source": [
    "def maximum():\n",
    "    nums=input(\"enter any five num and seprate ',' \").split(',')\n",
    "    nums.sort()\n",
    "    print(nums[-1])\n",
    "maximum()"
   ]
  },
  {
   "cell_type": "code",
   "execution_count": 26,
   "metadata": {},
   "outputs": [
    {
     "name": "stdout",
     "output_type": "stream",
     "text": [
      "enter a value 5 8\n"
     ]
    },
    {
     "data": {
      "text/plain": [
       "'8'"
      ]
     },
     "execution_count": 26,
     "metadata": {},
     "output_type": "execute_result"
    }
   ],
   "source": [
    "def findmax():\n",
    "    ans=input(\"enter a value 5 \").split(\",\")\n",
    "    return max((ans))\n",
    "findmax()"
   ]
  },
  {
   "cell_type": "code",
   "execution_count": 28,
   "metadata": {},
   "outputs": [
    {
     "name": "stdout",
     "output_type": "stream",
     "text": [
      "enter a value  5,6,7,3,4\n"
     ]
    },
    {
     "data": {
      "text/plain": [
       "7"
      ]
     },
     "execution_count": 28,
     "metadata": {},
     "output_type": "execute_result"
    }
   ],
   "source": [
    "def findmax():\n",
    "    ans=input(\"enter a value  \").split(\",\")\n",
    "    return max([int (x) for x in ans])\n",
    "findmax()"
   ]
  },
  {
   "cell_type": "code",
   "execution_count": 29,
   "metadata": {},
   "outputs": [
    {
     "name": "stdout",
     "output_type": "stream",
     "text": [
      "enter a value  2,6,7,4,5,7,4\n"
     ]
    },
    {
     "data": {
      "text/plain": [
       "['2', '6', '7', '4', '5', '7', '4']"
      ]
     },
     "execution_count": 29,
     "metadata": {},
     "output_type": "execute_result"
    }
   ],
   "source": [
    "ans=input(\"enter a value  \").split(\",\")\n",
    "ans"
   ]
  },
  {
   "cell_type": "code",
   "execution_count": null,
   "metadata": {},
   "outputs": [],
   "source": []
  },
  {
   "cell_type": "code",
   "execution_count": null,
   "metadata": {},
   "outputs": [],
   "source": []
  },
  {
   "cell_type": "code",
   "execution_count": 35,
   "metadata": {},
   "outputs": [
    {
     "name": "stdout",
     "output_type": "stream",
     "text": [
      "enter a num4\n"
     ]
    },
    {
     "data": {
      "text/plain": [
       "'evan'"
      ]
     },
     "execution_count": 35,
     "metadata": {},
     "output_type": "execute_result"
    }
   ],
   "source": [
    "def check():\n",
    "    if int(input(\"enter a num\")) %2==0:\n",
    "        return \"evan\"\n",
    "    else:\n",
    "        return \"odd\"\n",
    "check()\n",
    "        "
   ]
  },
  {
   "cell_type": "code",
   "execution_count": 38,
   "metadata": {},
   "outputs": [
    {
     "name": "stdout",
     "output_type": "stream",
     "text": [
      "enter a value88\n"
     ]
    },
    {
     "data": {
      "text/plain": [
       "'no'"
      ]
     },
     "execution_count": 38,
     "metadata": {},
     "output_type": "execute_result"
    }
   ],
   "source": [
    "def findalue ():\n",
    "    val=90\n",
    "    userval=int(input(\"enter a value\"))\n",
    "    if val > userval:\n",
    "        return \"no\"\n",
    "    elif val < userval:\n",
    "        return \"yes\"\n",
    "    else:\n",
    "        return \"yes\"\n",
    "findalue()"
   ]
  },
  {
   "cell_type": "code",
   "execution_count": 43,
   "metadata": {},
   "outputs": [
    {
     "name": "stdout",
     "output_type": "stream",
     "text": [
      "enter a status of fee  no\n",
      "enter a card statusyes\n"
     ]
    },
    {
     "data": {
      "text/plain": [
       "'no allowed'"
      ]
     },
     "execution_count": 43,
     "metadata": {},
     "output_type": "execute_result"
    }
   ],
   "source": [
    "def examvalidation():\n",
    "    feestatus=input(\"enter a status of fee  \")\n",
    "    admitcard=input(\"enter a card status\")\n",
    "    if feestatus ==\"yes\" and admitcard ==\"yes\":\n",
    "        return \"you ar alowed\"\n",
    "    else:\n",
    "        return \"no allowed\"\n",
    "examvalidation()"
   ]
  },
  {
   "cell_type": "code",
   "execution_count": 48,
   "metadata": {},
   "outputs": [],
   "source": [
    "def examcheck ():\n",
    "    feestatus = input(\"enter a fee status (paid/unpaid)\")\n",
    "    admitcard = input(\"do you have admit card(yes/no)\")\n",
    "    \n",
    "    if feestatus==\"paid\"  and admitcard==\"yes\":\n",
    "        print(\"you are alowed\")"
   ]
  },
  {
   "cell_type": "code",
   "execution_count": 50,
   "metadata": {},
   "outputs": [
    {
     "name": "stdout",
     "output_type": "stream",
     "text": [
      "enter a fee status (paid/unpaid)paid\n",
      "do you have admit card(yes/no)yes\n",
      "you are alowed\n"
     ]
    }
   ],
   "source": [
    "examcheck()"
   ]
  },
  {
   "cell_type": "code",
   "execution_count": 51,
   "metadata": {},
   "outputs": [],
   "source": [
    "def examcheck ():\n",
    "    feestatus = input(\"enter a fee status (paid/unpaid)\")\n",
    "    if feestatus==\"paid\":\n",
    "        admitcard = input(\"do you have admit card(yes/no)\")\n",
    "        if admitcard==\"yes\":\n",
    "            print(\"allowed\")\n",
    "        else:\n",
    "            print(\"not allowed\")\n",
    "    else:\n",
    "        print(\"not allowed\")\n",
    "            \n"
   ]
  },
  {
   "cell_type": "code",
   "execution_count": 53,
   "metadata": {},
   "outputs": [
    {
     "name": "stdout",
     "output_type": "stream",
     "text": [
      "enter a fee status (paid/unpaid)paid\n",
      "do you have admit card(yes/no)yes\n",
      "allowed\n"
     ]
    }
   ],
   "source": [
    "examcheck()"
   ]
  },
  {
   "cell_type": "code",
   "execution_count": null,
   "metadata": {},
   "outputs": [],
   "source": []
  },
  {
   "cell_type": "code",
   "execution_count": null,
   "metadata": {},
   "outputs": [],
   "source": []
  },
  {
   "cell_type": "code",
   "execution_count": 55,
   "metadata": {},
   "outputs": [
    {
     "name": "stdout",
     "output_type": "stream",
     "text": [
      "enter a any num to find its evan or odd  'quit to exit'4\n",
      "4 is evan\n",
      "enter a any num to find its evan or odd  'quit to exit'5\n",
      "5 is odd\n",
      "enter a any num to find its evan or odd  'quit to exit'quit\n"
     ]
    }
   ],
   "source": [
    "sentinal=True\n",
    "def findvalues ():\n",
    "    global sentinal\n",
    "    res = input(\"enter a any num to find its evan or odd  'quit to exit'  \")\n",
    "    if res !=\"quit\":\n",
    "        if int(res)%2==0:\n",
    "            print(f\"{res} is evan\")\n",
    "        else:\n",
    "            print(f\"{res} is odd\")\n",
    "    else:\n",
    "        sentinal=False\n",
    "while (sentinal):\n",
    "    findvalues()"
   ]
  },
  {
   "cell_type": "code",
   "execution_count": 58,
   "metadata": {},
   "outputs": [
    {
     "ename": "SyntaxError",
     "evalue": "invalid syntax (<ipython-input-58-52653547a1a2>, line 7)",
     "output_type": "error",
     "traceback": [
      "\u001b[1;36m  File \u001b[1;32m\"<ipython-input-58-52653547a1a2>\"\u001b[1;36m, line \u001b[1;32m7\u001b[0m\n\u001b[1;33m    if %2==0:\u001b[0m\n\u001b[1;37m       ^\u001b[0m\n\u001b[1;31mSyntaxError\u001b[0m\u001b[1;31m:\u001b[0m invalid syntax\n"
     ]
    }
   ],
   "source": [
    "def check():\n",
    "    while(true):\n",
    "        a=int(input(\"enter a num\"))\n",
    "        if a ==\"q\":\n",
    "            break\n",
    "        else:\n",
    "            if %2==0:\n",
    "                return \"evan\"\n",
    "            else:\n",
    "                return \"odd\"\n",
    "check()\n",
    "        "
   ]
  },
  {
   "cell_type": "code",
   "execution_count": null,
   "metadata": {},
   "outputs": [],
   "source": []
  }
 ],
 "metadata": {
  "kernelspec": {
   "display_name": "Python 3",
   "language": "python",
   "name": "python3"
  },
  "language_info": {
   "codemirror_mode": {
    "name": "ipython",
    "version": 3
   },
   "file_extension": ".py",
   "mimetype": "text/x-python",
   "name": "python",
   "nbconvert_exporter": "python",
   "pygments_lexer": "ipython3",
   "version": "3.8.5"
  }
 },
 "nbformat": 4,
 "nbformat_minor": 4
}
